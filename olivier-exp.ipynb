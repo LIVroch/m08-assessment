{
 "cells": [
  {
   "cell_type": "code",
   "execution_count": null,
   "metadata": {},
   "outputs": [],
   "source": [
    "from config import api_key\n",
    "import pandas as pd\n",
    "import requests\n",
    "import matplotlib.pyplot as plt\n",
    "import seaborn as sns"
   ]
  },
  {
   "cell_type": "code",
   "execution_count": null,
   "metadata": {},
   "outputs": [],
   "source": [
    "url = f'https://api.census.gov/data/2018/abscbo?get=GEO_ID,NAME,NAICS2017,NAICS2017_LABEL,OWNER_SEX,OWNER_SEX_LABEL,OWNER_ETH,OWNER_ETH_LABEL,OWNER_RACE,OWNER_RACE_LABEL,OWNER_VET,OWNER_VET_LABEL,QDESC,QDESC_LABEL,OWNCHAR,OWNCHAR_LABEL,OWNPDEMP,OWNPDEMP_PCT&for=us:*&key={api_key}'\n",
    "res = requests.get(url).json()\n",
    "df = pd.DataFrame(res)\n",
    "df.columns = df.iloc[0]\n",
    "df.drop(df.index[0], inplace=True)\n",
    "df"
   ]
  },
  {
   "cell_type": "code",
   "execution_count": null,
   "metadata": {},
   "outputs": [],
   "source": [
    "education = df[df['QDESC'] == 'O07'].copy()\n",
    "education = education[education['NAICS2017_LABEL'] == 'Total for all sectors']\n",
    "education['OWNPDEMP'] = education['OWNPDEMP'].astype(int)\n",
    "education = education[['OWNCHAR_LABEL','OWNPDEMP']]\n",
    "\n",
    "education = education.groupby('OWNCHAR_LABEL')['OWNPDEMP'].median()\n",
    "education = education.reset_index()\n",
    "\n",
    "education.drop([education.index[4],education.index[10]], inplace=True)\n",
    "\n",
    "education = education.set_index('OWNCHAR_LABEL')\n",
    "\n",
    "fig = plt.figure(figsize=(15,10))\n",
    "owner_edu = education.plot(kind='barh', legend=None, ax=fig.gca(), fontsize=12, color='orange')\n",
    "owner_edu.set_title('Educational Level of Business Owners in the US (2018)', fontsize=25)\n",
    "owner_edu.set_ylabel('Education Level', fontsize=15)\n",
    "owner_edu.set_xlabel('Number of Owners (in 10s of Thousands)', fontsize=15)"
   ]
  },
  {
   "cell_type": "code",
   "execution_count": null,
   "metadata": {},
   "outputs": [],
   "source": [
    "age = df[df['QDESC'] == 'O09'].copy()\n",
    "age = age[age['NAICS2017_LABEL'] == 'Total for all sectors']\n",
    "age['OWNPDEMP_PCT'] = age['OWNPDEMP_PCT'].astype(float)\n",
    "age = age[['OWNCHAR_LABEL','OWNPDEMP_PCT']]\n",
    "\n",
    "age = age.groupby('OWNCHAR_LABEL')['OWNPDEMP_PCT'].median()\n",
    "age.reset_index()\n",
    "\n",
    "age.drop([age.index[5],age.index[6]], inplace=True)\n",
    "\n",
    "fig = plt.figure(figsize=(15,10))\n",
    "age = age.plot(kind='barh', legend=None, ax=fig.gca(), fontsize=12, color='purple')\n",
    "age.set_title('Age of Business Owners in the US (2018)', fontsize=25)\n",
    "age.set_ylabel('Age Range', fontsize=15)\n",
    "age.set_xlabel('Number of Owners (in 10s of Thousands)', fontsize=15)"
   ]
  }
 ],
 "metadata": {
  "kernelspec": {
   "display_name": "Python 3.9.12 ('base')",
   "language": "python",
   "name": "python3"
  },
  "language_info": {
   "name": "python",
   "version": "3.9.12"
  },
  "orig_nbformat": 4,
  "vscode": {
   "interpreter": {
    "hash": "62c7d5262a5f0b4026fa8117f6e20ec6429638b3cc17308fe00f86bed13a96d9"
   }
  }
 },
 "nbformat": 4,
 "nbformat_minor": 2
}
